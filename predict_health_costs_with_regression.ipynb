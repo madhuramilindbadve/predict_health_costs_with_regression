{
  "nbformat": 4,
  "nbformat_minor": 0,
  "metadata": {
    "colab": {
      "name": "fcc_predict_health_costs_with_regression.ipynb",
      "provenance": [],
      "collapsed_sections": []
    },
    "kernelspec": {
      "display_name": "Python 3",
      "name": "python3"
    }
  },
  "cells": [
    {
      "cell_type": "markdown",
      "metadata": {
        "id": "M9TX15KOkPBV"
      },
      "source": [
        "*Note: You are currently reading this using Google Colaboratory which is a cloud-hosted version of Jupyter Notebook. This is a document containing both text cells for documentation and runnable code cells. If you are unfamiliar with Jupyter Notebook, watch this 3-minute introduction before starting this challenge: https://www.youtube.com/watch?v=inN8seMm7UI*\n",
        "\n",
        "---\n",
        "\n",
        "In this challenge, you will predict healthcare costs using a regression algorithm.\n",
        "\n",
        "You are given a dataset that contains information about different people including their healthcare costs. Use the data to predict healthcare costs based on new data.\n",
        "\n",
        "The first two cells of this notebook import libraries and the data.\n",
        "\n",
        "Make sure to convert categorical data to numbers. Use 80% of the data as the `train_dataset` and 20% of the data as the `test_dataset`.\n",
        "\n",
        "`pop` off the \"expenses\" column from these datasets to create new datasets called `train_labels` and `test_labels`. Use these labels when training your model.\n",
        "\n",
        "Create a model and train it with the `train_dataset`. Run the final cell in this notebook to check your model. The final cell will use the unseen `test_dataset` to check how well the model generalizes.\n",
        "\n",
        "To pass the challenge, `model.evaluate` must return a Mean Absolute Error of under 3500. This means it predicts health care costs correctly within $3500.\n",
        "\n",
        "The final cell will also predict expenses using the `test_dataset` and graph the results."
      ]
    },
    {
      "cell_type": "code",
      "metadata": {
        "id": "1rRo8oNqZ-Rj",
        "colab": {
          "base_uri": "https://localhost:8080/"
        },
        "outputId": "ebdb70e0-fb8a-43d2-f9b9-d9468507e98b"
      },
      "source": [
        "# Import libraries. You may or may not use all of these.\n",
        "!pip install -q git+https://github.com/tensorflow/docs\n",
        "import matplotlib.pyplot as plt\n",
        "import numpy as np\n",
        "import pandas as pd\n",
        "\n",
        "try:\n",
        "  # %tensorflow_version only exists in Colab.\n",
        "  %tensorflow_version 2.x\n",
        "except Exception:\n",
        "  pass\n",
        "import tensorflow as tf\n",
        "\n",
        "from tensorflow import keras\n",
        "from tensorflow.keras import layers\n",
        "\n",
        "import tensorflow_docs as tfdocs\n",
        "import tensorflow_docs.plots\n",
        "import tensorflow_docs.modeling"
      ],
      "execution_count": null,
      "outputs": [
        {
          "output_type": "stream",
          "text": [
            "  Building wheel for tensorflow-docs (setup.py) ... \u001b[?25l\u001b[?25hdone\n"
          ],
          "name": "stdout"
        }
      ]
    },
    {
      "cell_type": "code",
      "metadata": {
        "id": "CiX2FI4gZtTt",
        "colab": {
          "base_uri": "https://localhost:8080/"
        },
        "outputId": "2743f202-bdc0-4b42-ece4-6c617c4cf475"
      },
      "source": [
        "# Import data\n",
        "!wget https://cdn.freecodecamp.org/project-data/health-costs/insurance.csv\n",
        "dataset = pd.read_csv('insurance.csv')\n",
        "#dataset.tail()"
      ],
      "execution_count": null,
      "outputs": [
        {
          "output_type": "stream",
          "text": [
            "--2021-07-10 17:29:21--  https://cdn.freecodecamp.org/project-data/health-costs/insurance.csv\n",
            "Resolving cdn.freecodecamp.org (cdn.freecodecamp.org)... 104.26.3.33, 104.26.2.33, 172.67.70.149, ...\n",
            "Connecting to cdn.freecodecamp.org (cdn.freecodecamp.org)|104.26.3.33|:443... connected.\n",
            "HTTP request sent, awaiting response... 200 OK\n",
            "Length: 50264 (49K) [text/csv]\n",
            "Saving to: ‘insurance.csv’\n",
            "\n",
            "insurance.csv       100%[===================>]  49.09K  --.-KB/s    in 0.01s   \n",
            "\n",
            "2021-07-10 17:29:21 (4.66 MB/s) - ‘insurance.csv’ saved [50264/50264]\n",
            "\n"
          ],
          "name": "stdout"
        }
      ]
    },
    {
      "cell_type": "markdown",
      "metadata": {
        "id": "uwTNtDaOd5YD"
      },
      "source": [
        "Explore Data"
      ]
    },
    {
      "cell_type": "code",
      "metadata": {
        "id": "LcopvQh3X-kX"
      },
      "source": [
        "eda_data = dataset.copy()"
      ],
      "execution_count": null,
      "outputs": []
    },
    {
      "cell_type": "code",
      "metadata": {
        "colab": {
          "base_uri": "https://localhost:8080/",
          "height": 402
        },
        "id": "7s_zB7PreCgN",
        "outputId": "69480bf9-aa41-463d-e64f-65b1ffd1c83e"
      },
      "source": [
        "eda_data"
      ],
      "execution_count": null,
      "outputs": [
        {
          "output_type": "execute_result",
          "data": {
            "text/html": [
              "<div>\n",
              "<style scoped>\n",
              "    .dataframe tbody tr th:only-of-type {\n",
              "        vertical-align: middle;\n",
              "    }\n",
              "\n",
              "    .dataframe tbody tr th {\n",
              "        vertical-align: top;\n",
              "    }\n",
              "\n",
              "    .dataframe thead th {\n",
              "        text-align: right;\n",
              "    }\n",
              "</style>\n",
              "<table border=\"1\" class=\"dataframe\">\n",
              "  <thead>\n",
              "    <tr style=\"text-align: right;\">\n",
              "      <th></th>\n",
              "      <th>age</th>\n",
              "      <th>sex</th>\n",
              "      <th>bmi</th>\n",
              "      <th>children</th>\n",
              "      <th>smoker</th>\n",
              "      <th>region</th>\n",
              "      <th>expenses</th>\n",
              "    </tr>\n",
              "  </thead>\n",
              "  <tbody>\n",
              "    <tr>\n",
              "      <th>0</th>\n",
              "      <td>19</td>\n",
              "      <td>female</td>\n",
              "      <td>27.9</td>\n",
              "      <td>0</td>\n",
              "      <td>yes</td>\n",
              "      <td>southwest</td>\n",
              "      <td>16884.92</td>\n",
              "    </tr>\n",
              "    <tr>\n",
              "      <th>1</th>\n",
              "      <td>18</td>\n",
              "      <td>male</td>\n",
              "      <td>33.8</td>\n",
              "      <td>1</td>\n",
              "      <td>no</td>\n",
              "      <td>southeast</td>\n",
              "      <td>1725.55</td>\n",
              "    </tr>\n",
              "    <tr>\n",
              "      <th>2</th>\n",
              "      <td>28</td>\n",
              "      <td>male</td>\n",
              "      <td>33.0</td>\n",
              "      <td>3</td>\n",
              "      <td>no</td>\n",
              "      <td>southeast</td>\n",
              "      <td>4449.46</td>\n",
              "    </tr>\n",
              "    <tr>\n",
              "      <th>3</th>\n",
              "      <td>33</td>\n",
              "      <td>male</td>\n",
              "      <td>22.7</td>\n",
              "      <td>0</td>\n",
              "      <td>no</td>\n",
              "      <td>northwest</td>\n",
              "      <td>21984.47</td>\n",
              "    </tr>\n",
              "    <tr>\n",
              "      <th>4</th>\n",
              "      <td>32</td>\n",
              "      <td>male</td>\n",
              "      <td>28.9</td>\n",
              "      <td>0</td>\n",
              "      <td>no</td>\n",
              "      <td>northwest</td>\n",
              "      <td>3866.86</td>\n",
              "    </tr>\n",
              "    <tr>\n",
              "      <th>...</th>\n",
              "      <td>...</td>\n",
              "      <td>...</td>\n",
              "      <td>...</td>\n",
              "      <td>...</td>\n",
              "      <td>...</td>\n",
              "      <td>...</td>\n",
              "      <td>...</td>\n",
              "    </tr>\n",
              "    <tr>\n",
              "      <th>1333</th>\n",
              "      <td>50</td>\n",
              "      <td>male</td>\n",
              "      <td>31.0</td>\n",
              "      <td>3</td>\n",
              "      <td>no</td>\n",
              "      <td>northwest</td>\n",
              "      <td>10600.55</td>\n",
              "    </tr>\n",
              "    <tr>\n",
              "      <th>1334</th>\n",
              "      <td>18</td>\n",
              "      <td>female</td>\n",
              "      <td>31.9</td>\n",
              "      <td>0</td>\n",
              "      <td>no</td>\n",
              "      <td>northeast</td>\n",
              "      <td>2205.98</td>\n",
              "    </tr>\n",
              "    <tr>\n",
              "      <th>1335</th>\n",
              "      <td>18</td>\n",
              "      <td>female</td>\n",
              "      <td>36.9</td>\n",
              "      <td>0</td>\n",
              "      <td>no</td>\n",
              "      <td>southeast</td>\n",
              "      <td>1629.83</td>\n",
              "    </tr>\n",
              "    <tr>\n",
              "      <th>1336</th>\n",
              "      <td>21</td>\n",
              "      <td>female</td>\n",
              "      <td>25.8</td>\n",
              "      <td>0</td>\n",
              "      <td>no</td>\n",
              "      <td>southwest</td>\n",
              "      <td>2007.95</td>\n",
              "    </tr>\n",
              "    <tr>\n",
              "      <th>1337</th>\n",
              "      <td>61</td>\n",
              "      <td>female</td>\n",
              "      <td>29.1</td>\n",
              "      <td>0</td>\n",
              "      <td>yes</td>\n",
              "      <td>northwest</td>\n",
              "      <td>29141.36</td>\n",
              "    </tr>\n",
              "  </tbody>\n",
              "</table>\n",
              "<p>1338 rows × 7 columns</p>\n",
              "</div>"
            ],
            "text/plain": [
              "      age     sex   bmi  children smoker     region  expenses\n",
              "0      19  female  27.9         0    yes  southwest  16884.92\n",
              "1      18    male  33.8         1     no  southeast   1725.55\n",
              "2      28    male  33.0         3     no  southeast   4449.46\n",
              "3      33    male  22.7         0     no  northwest  21984.47\n",
              "4      32    male  28.9         0     no  northwest   3866.86\n",
              "...   ...     ...   ...       ...    ...        ...       ...\n",
              "1333   50    male  31.0         3     no  northwest  10600.55\n",
              "1334   18  female  31.9         0     no  northeast   2205.98\n",
              "1335   18  female  36.9         0     no  southeast   1629.83\n",
              "1336   21  female  25.8         0     no  southwest   2007.95\n",
              "1337   61  female  29.1         0    yes  northwest  29141.36\n",
              "\n",
              "[1338 rows x 7 columns]"
            ]
          },
          "metadata": {
            "tags": []
          },
          "execution_count": 4
        }
      ]
    },
    {
      "cell_type": "code",
      "metadata": {
        "colab": {
          "base_uri": "https://localhost:8080/"
        },
        "id": "GhPuCEPBeHa6",
        "outputId": "3e3cb174-6c46-455d-d894-f862acdacd78"
      },
      "source": [
        "eda_data.info()"
      ],
      "execution_count": null,
      "outputs": [
        {
          "output_type": "stream",
          "text": [
            "<class 'pandas.core.frame.DataFrame'>\n",
            "RangeIndex: 1338 entries, 0 to 1337\n",
            "Data columns (total 7 columns):\n",
            " #   Column    Non-Null Count  Dtype  \n",
            "---  ------    --------------  -----  \n",
            " 0   age       1338 non-null   int64  \n",
            " 1   sex       1338 non-null   object \n",
            " 2   bmi       1338 non-null   float64\n",
            " 3   children  1338 non-null   int64  \n",
            " 4   smoker    1338 non-null   object \n",
            " 5   region    1338 non-null   object \n",
            " 6   expenses  1338 non-null   float64\n",
            "dtypes: float64(2), int64(2), object(3)\n",
            "memory usage: 73.3+ KB\n"
          ],
          "name": "stdout"
        }
      ]
    },
    {
      "cell_type": "code",
      "metadata": {
        "colab": {
          "base_uri": "https://localhost:8080/"
        },
        "id": "S3plrP95eJU-",
        "outputId": "17c0dc74-46a9-44dd-bdb9-6ab57ada86b1"
      },
      "source": [
        "eda_data.sex.value_counts()"
      ],
      "execution_count": null,
      "outputs": [
        {
          "output_type": "execute_result",
          "data": {
            "text/plain": [
              "male      676\n",
              "female    662\n",
              "Name: sex, dtype: int64"
            ]
          },
          "metadata": {
            "tags": []
          },
          "execution_count": 6
        }
      ]
    },
    {
      "cell_type": "code",
      "metadata": {
        "colab": {
          "base_uri": "https://localhost:8080/",
          "height": 174
        },
        "id": "harooNjteMda",
        "outputId": "3c9171bf-4011-422f-bbd6-1f56ccd014ad"
      },
      "source": [
        "fig = plt.figure(figsize=(5, 2))\n",
        "\n",
        "plt.barh((eda_data.sex.value_counts()).keys(), (eda_data.sex.value_counts()).values)"
      ],
      "execution_count": null,
      "outputs": [
        {
          "output_type": "execute_result",
          "data": {
            "text/plain": [
              "<BarContainer object of 2 artists>"
            ]
          },
          "metadata": {
            "tags": []
          },
          "execution_count": 7
        },
        {
          "output_type": "display_data",
          "data": {
            "image/png": "[encoded data removed]",
            "text/plain": [
              "<Figure size 360x144 with 1 Axes>"
            ]
          },
          "metadata": {
            "tags": [],
            "needs_background": "light"
          }
        }
      ]
    },
    {
      "cell_type": "code",
      "metadata": {
        "colab": {
          "base_uri": "https://localhost:8080/"
        },
        "id": "V47Lxa2neRCU",
        "outputId": "0e96421a-ef20-422a-a42e-b834e22634a7"
      },
      "source": [
        "eda_data.smoker.value_counts()"
      ],
      "execution_count": null,
      "outputs": [
        {
          "output_type": "execute_result",
          "data": {
            "text/plain": [
              "no     1064\n",
              "yes     274\n",
              "Name: smoker, dtype: int64"
            ]
          },
          "metadata": {
            "tags": []
          },
          "execution_count": 8
        }
      ]
    },
    {
      "cell_type": "code",
      "metadata": {
        "colab": {
          "base_uri": "https://localhost:8080/"
        },
        "id": "pKbOlls2eVNc",
        "outputId": "08f2683f-d0a1-4792-b56a-fd43c607a646"
      },
      "source": [
        "eda_data.region.value_counts()"
      ],
      "execution_count": null,
      "outputs": [
        {
          "output_type": "execute_result",
          "data": {
            "text/plain": [
              "southeast    364\n",
              "southwest    325\n",
              "northwest    325\n",
              "northeast    324\n",
              "Name: region, dtype: int64"
            ]
          },
          "metadata": {
            "tags": []
          },
          "execution_count": 9
        }
      ]
    },
    {
      "cell_type": "code",
      "metadata": {
        "colab": {
          "base_uri": "https://localhost:8080/",
          "height": 337
        },
        "id": "anic651OeZkx",
        "outputId": "23b6cf65-b648-4690-c49d-098f282d73b3"
      },
      "source": [
        "fig = plt.figure(figsize=(5, 5))\n",
        "\n",
        "plt.barh((eda_data.region.value_counts()).keys(), (eda_data.region.value_counts()).values)"
      ],
      "execution_count": null,
      "outputs": [
        {
          "output_type": "execute_result",
          "data": {
            "text/plain": [
              "<BarContainer object of 4 artists>"
            ]
          },
          "metadata": {
            "tags": []
          },
          "execution_count": 10
        },
        {
          "output_type": "display_data",
          "data": {
            "image/png": "[encoded data removed]",
            "text/plain": [
              "<Figure size 360x360 with 1 Axes>"
            ]
          },
          "metadata": {
            "tags": [],
            "needs_background": "light"
          }
        }
      ]
    },
    {
      "cell_type": "code",
      "metadata": {
        "colab": {
          "base_uri": "https://localhost:8080/",
          "height": 284
        },
        "id": "cWsrQt_Tegrt",
        "outputId": "ee95c12d-d60c-4d80-8ab1-06f2f6e2b0c0"
      },
      "source": [
        "eda_data.describe()"
      ],
      "execution_count": null,
      "outputs": [
        {
          "output_type": "execute_result",
          "data": {
            "text/html": [
              "<div>\n",
              "<style scoped>\n",
              "    .dataframe tbody tr th:only-of-type {\n",
              "        vertical-align: middle;\n",
              "    }\n",
              "\n",
              "    .dataframe tbody tr th {\n",
              "        vertical-align: top;\n",
              "    }\n",
              "\n",
              "    .dataframe thead th {\n",
              "        text-align: right;\n",
              "    }\n",
              "</style>\n",
              "<table border=\"1\" class=\"dataframe\">\n",
              "  <thead>\n",
              "    <tr style=\"text-align: right;\">\n",
              "      <th></th>\n",
              "      <th>age</th>\n",
              "      <th>bmi</th>\n",
              "      <th>children</th>\n",
              "      <th>expenses</th>\n",
              "    </tr>\n",
              "  </thead>\n",
              "  <tbody>\n",
              "    <tr>\n",
              "      <th>count</th>\n",
              "      <td>1338.000000</td>\n",
              "      <td>1338.000000</td>\n",
              "      <td>1338.000000</td>\n",
              "      <td>1338.000000</td>\n",
              "    </tr>\n",
              "    <tr>\n",
              "      <th>mean</th>\n",
              "      <td>39.207025</td>\n",
              "      <td>30.665471</td>\n",
              "      <td>1.094918</td>\n",
              "      <td>13270.422414</td>\n",
              "    </tr>\n",
              "    <tr>\n",
              "      <th>std</th>\n",
              "      <td>14.049960</td>\n",
              "      <td>6.098382</td>\n",
              "      <td>1.205493</td>\n",
              "      <td>12110.011240</td>\n",
              "    </tr>\n",
              "    <tr>\n",
              "      <th>min</th>\n",
              "      <td>18.000000</td>\n",
              "      <td>16.000000</td>\n",
              "      <td>0.000000</td>\n",
              "      <td>1121.870000</td>\n",
              "    </tr>\n",
              "    <tr>\n",
              "      <th>25%</th>\n",
              "      <td>27.000000</td>\n",
              "      <td>26.300000</td>\n",
              "      <td>0.000000</td>\n",
              "      <td>4740.287500</td>\n",
              "    </tr>\n",
              "    <tr>\n",
              "      <th>50%</th>\n",
              "      <td>39.000000</td>\n",
              "      <td>30.400000</td>\n",
              "      <td>1.000000</td>\n",
              "      <td>9382.030000</td>\n",
              "    </tr>\n",
              "    <tr>\n",
              "      <th>75%</th>\n",
              "      <td>51.000000</td>\n",
              "      <td>34.700000</td>\n",
              "      <td>2.000000</td>\n",
              "      <td>16639.915000</td>\n",
              "    </tr>\n",
              "    <tr>\n",
              "      <th>max</th>\n",
              "      <td>64.000000</td>\n",
              "      <td>53.100000</td>\n",
              "      <td>5.000000</td>\n",
              "      <td>63770.430000</td>\n",
              "    </tr>\n",
              "  </tbody>\n",
              "</table>\n",
              "</div>"
            ],
            "text/plain": [
              "               age          bmi     children      expenses\n",
              "count  1338.000000  1338.000000  1338.000000   1338.000000\n",
              "mean     39.207025    30.665471     1.094918  13270.422414\n",
              "std      14.049960     6.098382     1.205493  12110.011240\n",
              "min      18.000000    16.000000     0.000000   1121.870000\n",
              "25%      27.000000    26.300000     0.000000   4740.287500\n",
              "50%      39.000000    30.400000     1.000000   9382.030000\n",
              "75%      51.000000    34.700000     2.000000  16639.915000\n",
              "max      64.000000    53.100000     5.000000  63770.430000"
            ]
          },
          "metadata": {
            "tags": []
          },
          "execution_count": 11
        }
      ]
    },
    {
      "cell_type": "code",
      "metadata": {
        "colab": {
          "base_uri": "https://localhost:8080/",
          "height": 453
        },
        "id": "kamhEodSei-U",
        "outputId": "3dd477d0-14b5-4967-fcc5-1288d629408a"
      },
      "source": [
        "eda_data.hist(figsize = (15, 10))\n",
        "plt.show()"
      ],
      "execution_count": null,
      "outputs": [
        {
          "output_type": "display_data",
          "data": {
            "image/png": "[encoded data removed]",
            "text/plain": [
              "<Figure size 1080x720 with 4 Axes>"
            ]
          },
          "metadata": {
            "tags": [],
            "needs_background": "light"
          }
        }
      ]
    },
    {
      "cell_type": "code",
      "metadata": {
        "id": "OsrMoWq6engi"
      },
      "source": [
        "corr_matrix = eda_data.corr()"
      ],
      "execution_count": null,
      "outputs": []
    },
    {
      "cell_type": "code",
      "metadata": {
        "colab": {
          "base_uri": "https://localhost:8080/"
        },
        "id": "g5jS1c4hetaQ",
        "outputId": "d8732ece-0372-4d2f-a4f7-fa56b20b15f5"
      },
      "source": [
        "corr_matrix.expenses.sort_values(ascending = False)"
      ],
      "execution_count": null,
      "outputs": [
        {
          "output_type": "execute_result",
          "data": {
            "text/plain": [
              "expenses    1.000000\n",
              "age         0.299008\n",
              "bmi         0.198576\n",
              "children    0.067998\n",
              "Name: expenses, dtype: float64"
            ]
          },
          "metadata": {
            "tags": []
          },
          "execution_count": 14
        }
      ]
    },
    {
      "cell_type": "code",
      "metadata": {
        "colab": {
          "base_uri": "https://localhost:8080/",
          "height": 402
        },
        "id": "xWP3TG2re6ha",
        "outputId": "95095821-d71f-4a5b-8d7c-5531c46564bb"
      },
      "source": [
        "eda_data[\"sex\"] = eda_data[\"sex\"].map({\"male\": 1, \"female\": 0})\n",
        "eda_data[\"smoker\"] = eda_data[\"smoker\"].map({\"yes\": 1, \"no\": 0})\n",
        "eda_data"
      ],
      "execution_count": null,
      "outputs": [
        {
          "output_type": "execute_result",
          "data": {
            "text/html": [
              "<div>\n",
              "<style scoped>\n",
              "    .dataframe tbody tr th:only-of-type {\n",
              "        vertical-align: middle;\n",
              "    }\n",
              "\n",
              "    .dataframe tbody tr th {\n",
              "        vertical-align: top;\n",
              "    }\n",
              "\n",
              "    .dataframe thead th {\n",
              "        text-align: right;\n",
              "    }\n",
              "</style>\n",
              "<table border=\"1\" class=\"dataframe\">\n",
              "  <thead>\n",
              "    <tr style=\"text-align: right;\">\n",
              "      <th></th>\n",
              "      <th>age</th>\n",
              "      <th>sex</th>\n",
              "      <th>bmi</th>\n",
              "      <th>children</th>\n",
              "      <th>smoker</th>\n",
              "      <th>region</th>\n",
              "      <th>expenses</th>\n",
              "    </tr>\n",
              "  </thead>\n",
              "  <tbody>\n",
              "    <tr>\n",
              "      <th>0</th>\n",
              "      <td>19</td>\n",
              "      <td>0</td>\n",
              "      <td>27.9</td>\n",
              "      <td>0</td>\n",
              "      <td>1</td>\n",
              "      <td>southwest</td>\n",
              "      <td>16884.92</td>\n",
              "    </tr>\n",
              "    <tr>\n",
              "      <th>1</th>\n",
              "      <td>18</td>\n",
              "      <td>1</td>\n",
              "      <td>33.8</td>\n",
              "      <td>1</td>\n",
              "      <td>0</td>\n",
              "      <td>southeast</td>\n",
              "      <td>1725.55</td>\n",
              "    </tr>\n",
              "    <tr>\n",
              "      <th>2</th>\n",
              "      <td>28</td>\n",
              "      <td>1</td>\n",
              "      <td>33.0</td>\n",
              "      <td>3</td>\n",
              "      <td>0</td>\n",
              "      <td>southeast</td>\n",
              "      <td>4449.46</td>\n",
              "    </tr>\n",
              "    <tr>\n",
              "      <th>3</th>\n",
              "      <td>33</td>\n",
              "      <td>1</td>\n",
              "      <td>22.7</td>\n",
              "      <td>0</td>\n",
              "      <td>0</td>\n",
              "      <td>northwest</td>\n",
              "      <td>21984.47</td>\n",
              "    </tr>\n",
              "    <tr>\n",
              "      <th>4</th>\n",
              "      <td>32</td>\n",
              "      <td>1</td>\n",
              "      <td>28.9</td>\n",
              "      <td>0</td>\n",
              "      <td>0</td>\n",
              "      <td>northwest</td>\n",
              "      <td>3866.86</td>\n",
              "    </tr>\n",
              "    <tr>\n",
              "      <th>...</th>\n",
              "      <td>...</td>\n",
              "      <td>...</td>\n",
              "      <td>...</td>\n",
              "      <td>...</td>\n",
              "      <td>...</td>\n",
              "      <td>...</td>\n",
              "      <td>...</td>\n",
              "    </tr>\n",
              "    <tr>\n",
              "      <th>1333</th>\n",
              "      <td>50</td>\n",
              "      <td>1</td>\n",
              "      <td>31.0</td>\n",
              "      <td>3</td>\n",
              "      <td>0</td>\n",
              "      <td>northwest</td>\n",
              "      <td>10600.55</td>\n",
              "    </tr>\n",
              "    <tr>\n",
              "      <th>1334</th>\n",
              "      <td>18</td>\n",
              "      <td>0</td>\n",
              "      <td>31.9</td>\n",
              "      <td>0</td>\n",
              "      <td>0</td>\n",
              "      <td>northeast</td>\n",
              "      <td>2205.98</td>\n",
              "    </tr>\n",
              "    <tr>\n",
              "      <th>1335</th>\n",
              "      <td>18</td>\n",
              "      <td>0</td>\n",
              "      <td>36.9</td>\n",
              "      <td>0</td>\n",
              "      <td>0</td>\n",
              "      <td>southeast</td>\n",
              "      <td>1629.83</td>\n",
              "    </tr>\n",
              "    <tr>\n",
              "      <th>1336</th>\n",
              "      <td>21</td>\n",
              "      <td>0</td>\n",
              "      <td>25.8</td>\n",
              "      <td>0</td>\n",
              "      <td>0</td>\n",
              "      <td>southwest</td>\n",
              "      <td>2007.95</td>\n",
              "    </tr>\n",
              "    <tr>\n",
              "      <th>1337</th>\n",
              "      <td>61</td>\n",
              "      <td>0</td>\n",
              "      <td>29.1</td>\n",
              "      <td>0</td>\n",
              "      <td>1</td>\n",
              "      <td>northwest</td>\n",
              "      <td>29141.36</td>\n",
              "    </tr>\n",
              "  </tbody>\n",
              "</table>\n",
              "<p>1338 rows × 7 columns</p>\n",
              "</div>"
            ],
            "text/plain": [
              "      age  sex   bmi  children  smoker     region  expenses\n",
              "0      19    0  27.9         0       1  southwest  16884.92\n",
              "1      18    1  33.8         1       0  southeast   1725.55\n",
              "2      28    1  33.0         3       0  southeast   4449.46\n",
              "3      33    1  22.7         0       0  northwest  21984.47\n",
              "4      32    1  28.9         0       0  northwest   3866.86\n",
              "...   ...  ...   ...       ...     ...        ...       ...\n",
              "1333   50    1  31.0         3       0  northwest  10600.55\n",
              "1334   18    0  31.9         0       0  northeast   2205.98\n",
              "1335   18    0  36.9         0       0  southeast   1629.83\n",
              "1336   21    0  25.8         0       0  southwest   2007.95\n",
              "1337   61    0  29.1         0       1  northwest  29141.36\n",
              "\n",
              "[1338 rows x 7 columns]"
            ]
          },
          "metadata": {
            "tags": []
          },
          "execution_count": 16
        }
      ]
    },
    {
      "cell_type": "code",
      "metadata": {
        "colab": {
          "base_uri": "https://localhost:8080/"
        },
        "id": "HJhQjwIGe_Nz",
        "outputId": "0699db0e-06c5-40be-ee77-e0406d934e0b"
      },
      "source": [
        "corr_matrix = eda_data.corr()\n",
        "corr_matrix.expenses.sort_values(ascending = False)"
      ],
      "execution_count": null,
      "outputs": [
        {
          "output_type": "execute_result",
          "data": {
            "text/plain": [
              "expenses    1.000000\n",
              "smoker      0.787251\n",
              "age         0.299008\n",
              "bmi         0.198576\n",
              "children    0.067998\n",
              "sex         0.057292\n",
              "Name: expenses, dtype: float64"
            ]
          },
          "metadata": {
            "tags": []
          },
          "execution_count": 17
        }
      ]
    },
    {
      "cell_type": "code",
      "metadata": {
        "colab": {
          "base_uri": "https://localhost:8080/",
          "height": 77
        },
        "id": "kUKQnvClfPUN",
        "outputId": "4bd1f65c-630b-4496-be34-425355bc8bbb"
      },
      "source": [
        "eda_data[eda_data.expenses == eda_data.expenses.max()]"
      ],
      "execution_count": null,
      "outputs": [
        {
          "output_type": "execute_result",
          "data": {
            "text/html": [
              "<div>\n",
              "<style scoped>\n",
              "    .dataframe tbody tr th:only-of-type {\n",
              "        vertical-align: middle;\n",
              "    }\n",
              "\n",
              "    .dataframe tbody tr th {\n",
              "        vertical-align: top;\n",
              "    }\n",
              "\n",
              "    .dataframe thead th {\n",
              "        text-align: right;\n",
              "    }\n",
              "</style>\n",
              "<table border=\"1\" class=\"dataframe\">\n",
              "  <thead>\n",
              "    <tr style=\"text-align: right;\">\n",
              "      <th></th>\n",
              "      <th>age</th>\n",
              "      <th>sex</th>\n",
              "      <th>bmi</th>\n",
              "      <th>children</th>\n",
              "      <th>smoker</th>\n",
              "      <th>region</th>\n",
              "      <th>expenses</th>\n",
              "    </tr>\n",
              "  </thead>\n",
              "  <tbody>\n",
              "    <tr>\n",
              "      <th>543</th>\n",
              "      <td>54</td>\n",
              "      <td>0</td>\n",
              "      <td>47.4</td>\n",
              "      <td>0</td>\n",
              "      <td>1</td>\n",
              "      <td>southeast</td>\n",
              "      <td>63770.43</td>\n",
              "    </tr>\n",
              "  </tbody>\n",
              "</table>\n",
              "</div>"
            ],
            "text/plain": [
              "     age  sex   bmi  children  smoker     region  expenses\n",
              "543   54    0  47.4         0       1  southeast  63770.43"
            ]
          },
          "metadata": {
            "tags": []
          },
          "execution_count": 18
        }
      ]
    },
    {
      "cell_type": "markdown",
      "metadata": {
        "id": "gSXvr1vAfSMK"
      },
      "source": [
        "It means that a person that has the highest healthcare costs in this dataset it must be smoker and a person that has the lowest healthcare costs in this dataset it must be non-smoker."
      ]
    },
    {
      "cell_type": "code",
      "metadata": {
        "colab": {
          "base_uri": "https://localhost:8080/",
          "height": 77
        },
        "id": "rK0hInRffct0",
        "outputId": "ad33018d-32a7-4cb2-becf-9298215c1fc0"
      },
      "source": [
        "eda_data[eda_data.expenses == eda_data.expenses.min()]"
      ],
      "execution_count": null,
      "outputs": [
        {
          "output_type": "execute_result",
          "data": {
            "text/html": [
              "<div>\n",
              "<style scoped>\n",
              "    .dataframe tbody tr th:only-of-type {\n",
              "        vertical-align: middle;\n",
              "    }\n",
              "\n",
              "    .dataframe tbody tr th {\n",
              "        vertical-align: top;\n",
              "    }\n",
              "\n",
              "    .dataframe thead th {\n",
              "        text-align: right;\n",
              "    }\n",
              "</style>\n",
              "<table border=\"1\" class=\"dataframe\">\n",
              "  <thead>\n",
              "    <tr style=\"text-align: right;\">\n",
              "      <th></th>\n",
              "      <th>age</th>\n",
              "      <th>sex</th>\n",
              "      <th>bmi</th>\n",
              "      <th>children</th>\n",
              "      <th>smoker</th>\n",
              "      <th>region</th>\n",
              "      <th>expenses</th>\n",
              "    </tr>\n",
              "  </thead>\n",
              "  <tbody>\n",
              "    <tr>\n",
              "      <th>940</th>\n",
              "      <td>18</td>\n",
              "      <td>1</td>\n",
              "      <td>23.2</td>\n",
              "      <td>0</td>\n",
              "      <td>0</td>\n",
              "      <td>southeast</td>\n",
              "      <td>1121.87</td>\n",
              "    </tr>\n",
              "  </tbody>\n",
              "</table>\n",
              "</div>"
            ],
            "text/plain": [
              "     age  sex   bmi  children  smoker     region  expenses\n",
              "940   18    1  23.2         0       0  southeast   1121.87"
            ]
          },
          "metadata": {
            "tags": []
          },
          "execution_count": 19
        }
      ]
    },
    {
      "cell_type": "markdown",
      "metadata": {
        "id": "d-OhVRh6flVQ"
      },
      "source": [
        "## Lets Split the data"
      ]
    },
    {
      "cell_type": "code",
      "metadata": {
        "id": "ujUvVX8nfuYw"
      },
      "source": [
        "from sklearn.model_selection import StratifiedShuffleSplit\n",
        "\n",
        "split = StratifiedShuffleSplit(n_splits = 1, test_size = 0.2, random_state = 42)\n",
        "for train_index, test_index in split.split(dataset, dataset[\"smoker\"]):\n",
        "  strat_train_set = dataset.loc[train_index]\n",
        "  strat_test_set = dataset.loc[test_index]"
      ],
      "execution_count": null,
      "outputs": []
    },
    {
      "cell_type": "code",
      "metadata": {
        "colab": {
          "base_uri": "https://localhost:8080/"
        },
        "id": "OEncGRu6f02t",
        "outputId": "4d75c5ef-0099-48c8-ce44-eee168e95366"
      },
      "source": [
        "strat_test_set.smoker.value_counts()"
      ],
      "execution_count": null,
      "outputs": [
        {
          "output_type": "execute_result",
          "data": {
            "text/plain": [
              "no     213\n",
              "yes     55\n",
              "Name: smoker, dtype: int64"
            ]
          },
          "metadata": {
            "tags": []
          },
          "execution_count": 21
        }
      ]
    },
    {
      "cell_type": "code",
      "metadata": {
        "colab": {
          "base_uri": "https://localhost:8080/"
        },
        "id": "66E0RvG3f3PB",
        "outputId": "96b5be69-19c0-4d45-e05e-1a4fb56adb20"
      },
      "source": [
        "strat_test_set.smoker.value_counts() / len(strat_test_set)"
      ],
      "execution_count": null,
      "outputs": [
        {
          "output_type": "execute_result",
          "data": {
            "text/plain": [
              "no     0.794776\n",
              "yes    0.205224\n",
              "Name: smoker, dtype: float64"
            ]
          },
          "metadata": {
            "tags": []
          },
          "execution_count": 22
        }
      ]
    },
    {
      "cell_type": "code",
      "metadata": {
        "colab": {
          "base_uri": "https://localhost:8080/"
        },
        "id": "LFwhj_tff7NG",
        "outputId": "b0eb670b-d189-46cb-fb90-ef26c2ba6a6d"
      },
      "source": [
        "strat_train_set.smoker.value_counts()"
      ],
      "execution_count": null,
      "outputs": [
        {
          "output_type": "execute_result",
          "data": {
            "text/plain": [
              "no     851\n",
              "yes    219\n",
              "Name: smoker, dtype: int64"
            ]
          },
          "metadata": {
            "tags": []
          },
          "execution_count": 23
        }
      ]
    },
    {
      "cell_type": "code",
      "metadata": {
        "colab": {
          "base_uri": "https://localhost:8080/"
        },
        "id": "B7iXIPztf_Hz",
        "outputId": "df9e22d0-142b-438d-cbee-43b6af8d092c"
      },
      "source": [
        "strat_train_set.smoker.value_counts() / len(strat_train_set)"
      ],
      "execution_count": null,
      "outputs": [
        {
          "output_type": "execute_result",
          "data": {
            "text/plain": [
              "no     0.795327\n",
              "yes    0.204673\n",
              "Name: smoker, dtype: float64"
            ]
          },
          "metadata": {
            "tags": []
          },
          "execution_count": 24
        }
      ]
    },
    {
      "cell_type": "code",
      "metadata": {
        "colab": {
          "base_uri": "https://localhost:8080/"
        },
        "id": "eXCMumTzgChD",
        "outputId": "878cd058-2a7a-49c4-b919-a681224c2b56"
      },
      "source": [
        "dataset.smoker.value_counts()"
      ],
      "execution_count": null,
      "outputs": [
        {
          "output_type": "execute_result",
          "data": {
            "text/plain": [
              "no     1064\n",
              "yes     274\n",
              "Name: smoker, dtype: int64"
            ]
          },
          "metadata": {
            "tags": []
          },
          "execution_count": 25
        }
      ]
    },
    {
      "cell_type": "code",
      "metadata": {
        "colab": {
          "base_uri": "https://localhost:8080/"
        },
        "id": "3dfVbTnrgFn4",
        "outputId": "ba37410d-ecb4-492f-9f0e-dd0382f53822"
      },
      "source": [
        "dataset.smoker.value_counts() / len(dataset)"
      ],
      "execution_count": null,
      "outputs": [
        {
          "output_type": "execute_result",
          "data": {
            "text/plain": [
              "no     0.795217\n",
              "yes    0.204783\n",
              "Name: smoker, dtype: float64"
            ]
          },
          "metadata": {
            "tags": []
          },
          "execution_count": 26
        }
      ]
    },
    {
      "cell_type": "code",
      "metadata": {
        "colab": {
          "base_uri": "https://localhost:8080/",
          "height": 402
        },
        "id": "u5kBJL2OgJrr",
        "outputId": "c5aa84bb-7a8c-47bf-e6d2-f95b800cbed1"
      },
      "source": [
        "strat_train_set"
      ],
      "execution_count": null,
      "outputs": [
        {
          "output_type": "execute_result",
          "data": {
            "text/html": [
              "<div>\n",
              "<style scoped>\n",
              "    .dataframe tbody tr th:only-of-type {\n",
              "        vertical-align: middle;\n",
              "    }\n",
              "\n",
              "    .dataframe tbody tr th {\n",
              "        vertical-align: top;\n",
              "    }\n",
              "\n",
              "    .dataframe thead th {\n",
              "        text-align: right;\n",
              "    }\n",
              "</style>\n",
              "<table border=\"1\" class=\"dataframe\">\n",
              "  <thead>\n",
              "    <tr style=\"text-align: right;\">\n",
              "      <th></th>\n",
              "      <th>age</th>\n",
              "      <th>sex</th>\n",
              "      <th>bmi</th>\n",
              "      <th>children</th>\n",
              "      <th>smoker</th>\n",
              "      <th>region</th>\n",
              "      <th>expenses</th>\n",
              "    </tr>\n",
              "  </thead>\n",
              "  <tbody>\n",
              "    <tr>\n",
              "      <th>294</th>\n",
              "      <td>25</td>\n",
              "      <td>male</td>\n",
              "      <td>26.8</td>\n",
              "      <td>3</td>\n",
              "      <td>no</td>\n",
              "      <td>southwest</td>\n",
              "      <td>3906.13</td>\n",
              "    </tr>\n",
              "    <tr>\n",
              "      <th>179</th>\n",
              "      <td>41</td>\n",
              "      <td>female</td>\n",
              "      <td>33.2</td>\n",
              "      <td>3</td>\n",
              "      <td>no</td>\n",
              "      <td>northeast</td>\n",
              "      <td>8538.29</td>\n",
              "    </tr>\n",
              "    <tr>\n",
              "      <th>1335</th>\n",
              "      <td>18</td>\n",
              "      <td>female</td>\n",
              "      <td>36.9</td>\n",
              "      <td>0</td>\n",
              "      <td>no</td>\n",
              "      <td>southeast</td>\n",
              "      <td>1629.83</td>\n",
              "    </tr>\n",
              "    <tr>\n",
              "      <th>634</th>\n",
              "      <td>51</td>\n",
              "      <td>male</td>\n",
              "      <td>39.7</td>\n",
              "      <td>1</td>\n",
              "      <td>no</td>\n",
              "      <td>southwest</td>\n",
              "      <td>9391.35</td>\n",
              "    </tr>\n",
              "    <tr>\n",
              "      <th>67</th>\n",
              "      <td>40</td>\n",
              "      <td>male</td>\n",
              "      <td>26.3</td>\n",
              "      <td>1</td>\n",
              "      <td>no</td>\n",
              "      <td>northwest</td>\n",
              "      <td>6389.38</td>\n",
              "    </tr>\n",
              "    <tr>\n",
              "      <th>...</th>\n",
              "      <td>...</td>\n",
              "      <td>...</td>\n",
              "      <td>...</td>\n",
              "      <td>...</td>\n",
              "      <td>...</td>\n",
              "      <td>...</td>\n",
              "      <td>...</td>\n",
              "    </tr>\n",
              "    <tr>\n",
              "      <th>627</th>\n",
              "      <td>33</td>\n",
              "      <td>male</td>\n",
              "      <td>42.5</td>\n",
              "      <td>1</td>\n",
              "      <td>no</td>\n",
              "      <td>southeast</td>\n",
              "      <td>11326.71</td>\n",
              "    </tr>\n",
              "    <tr>\n",
              "      <th>76</th>\n",
              "      <td>29</td>\n",
              "      <td>female</td>\n",
              "      <td>29.6</td>\n",
              "      <td>1</td>\n",
              "      <td>no</td>\n",
              "      <td>southeast</td>\n",
              "      <td>3947.41</td>\n",
              "    </tr>\n",
              "    <tr>\n",
              "      <th>319</th>\n",
              "      <td>32</td>\n",
              "      <td>male</td>\n",
              "      <td>37.3</td>\n",
              "      <td>1</td>\n",
              "      <td>no</td>\n",
              "      <td>northeast</td>\n",
              "      <td>4667.61</td>\n",
              "    </tr>\n",
              "    <tr>\n",
              "      <th>197</th>\n",
              "      <td>45</td>\n",
              "      <td>female</td>\n",
              "      <td>28.6</td>\n",
              "      <td>2</td>\n",
              "      <td>no</td>\n",
              "      <td>southeast</td>\n",
              "      <td>8516.83</td>\n",
              "    </tr>\n",
              "    <tr>\n",
              "      <th>1147</th>\n",
              "      <td>20</td>\n",
              "      <td>female</td>\n",
              "      <td>31.9</td>\n",
              "      <td>0</td>\n",
              "      <td>no</td>\n",
              "      <td>northwest</td>\n",
              "      <td>2261.57</td>\n",
              "    </tr>\n",
              "  </tbody>\n",
              "</table>\n",
              "<p>1070 rows × 7 columns</p>\n",
              "</div>"
            ],
            "text/plain": [
              "      age     sex   bmi  children smoker     region  expenses\n",
              "294    25    male  26.8         3     no  southwest   3906.13\n",
              "179    41  female  33.2         3     no  northeast   8538.29\n",
              "1335   18  female  36.9         0     no  southeast   1629.83\n",
              "634    51    male  39.7         1     no  southwest   9391.35\n",
              "67     40    male  26.3         1     no  northwest   6389.38\n",
              "...   ...     ...   ...       ...    ...        ...       ...\n",
              "627    33    male  42.5         1     no  southeast  11326.71\n",
              "76     29  female  29.6         1     no  southeast   3947.41\n",
              "319    32    male  37.3         1     no  northeast   4667.61\n",
              "197    45  female  28.6         2     no  southeast   8516.83\n",
              "1147   20  female  31.9         0     no  northwest   2261.57\n",
              "\n",
              "[1070 rows x 7 columns]"
            ]
          },
          "metadata": {
            "tags": []
          },
          "execution_count": 27
        }
      ]
    },
    {
      "cell_type": "code",
      "metadata": {
        "colab": {
          "base_uri": "https://localhost:8080/"
        },
        "id": "Arh_ZqCcgNsZ",
        "outputId": "39fe5b83-a08c-491a-9c95-2df1a8438847"
      },
      "source": [
        "strat_train_set.info()"
      ],
      "execution_count": null,
      "outputs": [
        {
          "output_type": "stream",
          "text": [
            "<class 'pandas.core.frame.DataFrame'>\n",
            "Int64Index: 1070 entries, 294 to 1147\n",
            "Data columns (total 7 columns):\n",
            " #   Column    Non-Null Count  Dtype  \n",
            "---  ------    --------------  -----  \n",
            " 0   age       1070 non-null   int64  \n",
            " 1   sex       1070 non-null   object \n",
            " 2   bmi       1070 non-null   float64\n",
            " 3   children  1070 non-null   int64  \n",
            " 4   smoker    1070 non-null   object \n",
            " 5   region    1070 non-null   object \n",
            " 6   expenses  1070 non-null   float64\n",
            "dtypes: float64(2), int64(2), object(3)\n",
            "memory usage: 66.9+ KB\n"
          ],
          "name": "stdout"
        }
      ]
    },
    {
      "cell_type": "markdown",
      "metadata": {
        "id": "-mTDey9TgU7x"
      },
      "source": [
        "## Prepare the data"
      ]
    },
    {
      "cell_type": "code",
      "metadata": {
        "id": "q5O3qA0VgZ3M"
      },
      "source": [
        "train_labels = strat_train_set.pop(\"expenses\")\n",
        "test_labels = strat_test_set.pop(\"expenses\")"
      ],
      "execution_count": null,
      "outputs": []
    },
    {
      "cell_type": "code",
      "metadata": {
        "colab": {
          "base_uri": "https://localhost:8080/",
          "height": 402
        },
        "id": "ayJdqz9qgfGA",
        "outputId": "30425824-d12c-4042-b513-d5d897fdaaed"
      },
      "source": [
        "strat_test_set"
      ],
      "execution_count": null,
      "outputs": [
        {
          "output_type": "execute_result",
          "data": {
            "text/html": [
              "<div>\n",
              "<style scoped>\n",
              "    .dataframe tbody tr th:only-of-type {\n",
              "        vertical-align: middle;\n",
              "    }\n",
              "\n",
              "    .dataframe tbody tr th {\n",
              "        vertical-align: top;\n",
              "    }\n",
              "\n",
              "    .dataframe thead th {\n",
              "        text-align: right;\n",
              "    }\n",
              "</style>\n",
              "<table border=\"1\" class=\"dataframe\">\n",
              "  <thead>\n",
              "    <tr style=\"text-align: right;\">\n",
              "      <th></th>\n",
              "      <th>age</th>\n",
              "      <th>sex</th>\n",
              "      <th>bmi</th>\n",
              "      <th>children</th>\n",
              "      <th>smoker</th>\n",
              "      <th>region</th>\n",
              "    </tr>\n",
              "  </thead>\n",
              "  <tbody>\n",
              "    <tr>\n",
              "      <th>71</th>\n",
              "      <td>31</td>\n",
              "      <td>male</td>\n",
              "      <td>28.5</td>\n",
              "      <td>5</td>\n",
              "      <td>no</td>\n",
              "      <td>northeast</td>\n",
              "    </tr>\n",
              "    <tr>\n",
              "      <th>434</th>\n",
              "      <td>31</td>\n",
              "      <td>male</td>\n",
              "      <td>28.6</td>\n",
              "      <td>1</td>\n",
              "      <td>no</td>\n",
              "      <td>northwest</td>\n",
              "    </tr>\n",
              "    <tr>\n",
              "      <th>370</th>\n",
              "      <td>61</td>\n",
              "      <td>female</td>\n",
              "      <td>21.1</td>\n",
              "      <td>0</td>\n",
              "      <td>no</td>\n",
              "      <td>northwest</td>\n",
              "    </tr>\n",
              "    <tr>\n",
              "      <th>44</th>\n",
              "      <td>38</td>\n",
              "      <td>male</td>\n",
              "      <td>37.1</td>\n",
              "      <td>1</td>\n",
              "      <td>no</td>\n",
              "      <td>northeast</td>\n",
              "    </tr>\n",
              "    <tr>\n",
              "      <th>1039</th>\n",
              "      <td>19</td>\n",
              "      <td>male</td>\n",
              "      <td>27.3</td>\n",
              "      <td>2</td>\n",
              "      <td>no</td>\n",
              "      <td>northwest</td>\n",
              "    </tr>\n",
              "    <tr>\n",
              "      <th>...</th>\n",
              "      <td>...</td>\n",
              "      <td>...</td>\n",
              "      <td>...</td>\n",
              "      <td>...</td>\n",
              "      <td>...</td>\n",
              "      <td>...</td>\n",
              "    </tr>\n",
              "    <tr>\n",
              "      <th>39</th>\n",
              "      <td>60</td>\n",
              "      <td>male</td>\n",
              "      <td>39.9</td>\n",
              "      <td>0</td>\n",
              "      <td>yes</td>\n",
              "      <td>southwest</td>\n",
              "    </tr>\n",
              "    <tr>\n",
              "      <th>610</th>\n",
              "      <td>47</td>\n",
              "      <td>female</td>\n",
              "      <td>29.4</td>\n",
              "      <td>1</td>\n",
              "      <td>no</td>\n",
              "      <td>southeast</td>\n",
              "    </tr>\n",
              "    <tr>\n",
              "      <th>57</th>\n",
              "      <td>18</td>\n",
              "      <td>male</td>\n",
              "      <td>31.7</td>\n",
              "      <td>2</td>\n",
              "      <td>yes</td>\n",
              "      <td>southeast</td>\n",
              "    </tr>\n",
              "    <tr>\n",
              "      <th>851</th>\n",
              "      <td>61</td>\n",
              "      <td>male</td>\n",
              "      <td>32.3</td>\n",
              "      <td>2</td>\n",
              "      <td>no</td>\n",
              "      <td>northwest</td>\n",
              "    </tr>\n",
              "    <tr>\n",
              "      <th>1265</th>\n",
              "      <td>64</td>\n",
              "      <td>male</td>\n",
              "      <td>23.8</td>\n",
              "      <td>0</td>\n",
              "      <td>yes</td>\n",
              "      <td>southeast</td>\n",
              "    </tr>\n",
              "  </tbody>\n",
              "</table>\n",
              "<p>268 rows × 6 columns</p>\n",
              "</div>"
            ],
            "text/plain": [
              "      age     sex   bmi  children smoker     region\n",
              "71     31    male  28.5         5     no  northeast\n",
              "434    31    male  28.6         1     no  northwest\n",
              "370    61  female  21.1         0     no  northwest\n",
              "44     38    male  37.1         1     no  northeast\n",
              "1039   19    male  27.3         2     no  northwest\n",
              "...   ...     ...   ...       ...    ...        ...\n",
              "39     60    male  39.9         0    yes  southwest\n",
              "610    47  female  29.4         1     no  southeast\n",
              "57     18    male  31.7         2    yes  southeast\n",
              "851    61    male  32.3         2     no  northwest\n",
              "1265   64    male  23.8         0    yes  southeast\n",
              "\n",
              "[268 rows x 6 columns]"
            ]
          },
          "metadata": {
            "tags": []
          },
          "execution_count": 31
        }
      ]
    },
    {
      "cell_type": "code",
      "metadata": {
        "colab": {
          "base_uri": "https://localhost:8080/"
        },
        "id": "NGuyL1jOgn0e",
        "outputId": "f97da3a5-2992-45fb-bf1e-b1497ce3d612"
      },
      "source": [
        "train_labels"
      ],
      "execution_count": null,
      "outputs": [
        {
          "output_type": "execute_result",
          "data": {
            "text/plain": [
              "294      3906.13\n",
              "179      8538.29\n",
              "1335     1629.83\n",
              "634      9391.35\n",
              "67       6389.38\n",
              "          ...   \n",
              "627     11326.71\n",
              "76       3947.41\n",
              "319      4667.61\n",
              "197      8516.83\n",
              "1147     2261.57\n",
              "Name: expenses, Length: 1070, dtype: float64"
            ]
          },
          "metadata": {
            "tags": []
          },
          "execution_count": 32
        }
      ]
    },
    {
      "cell_type": "code",
      "metadata": {
        "colab": {
          "base_uri": "https://localhost:8080/",
          "height": 402
        },
        "id": "4c22dO0xgrbm",
        "outputId": "7301012c-2c79-4192-bb7d-d9c0e85ef55b"
      },
      "source": [
        "strat_test_set"
      ],
      "execution_count": null,
      "outputs": [
        {
          "output_type": "execute_result",
          "data": {
            "text/html": [
              "<div>\n",
              "<style scoped>\n",
              "    .dataframe tbody tr th:only-of-type {\n",
              "        vertical-align: middle;\n",
              "    }\n",
              "\n",
              "    .dataframe tbody tr th {\n",
              "        vertical-align: top;\n",
              "    }\n",
              "\n",
              "    .dataframe thead th {\n",
              "        text-align: right;\n",
              "    }\n",
              "</style>\n",
              "<table border=\"1\" class=\"dataframe\">\n",
              "  <thead>\n",
              "    <tr style=\"text-align: right;\">\n",
              "      <th></th>\n",
              "      <th>age</th>\n",
              "      <th>sex</th>\n",
              "      <th>bmi</th>\n",
              "      <th>children</th>\n",
              "      <th>smoker</th>\n",
              "      <th>region</th>\n",
              "    </tr>\n",
              "  </thead>\n",
              "  <tbody>\n",
              "    <tr>\n",
              "      <th>71</th>\n",
              "      <td>31</td>\n",
              "      <td>male</td>\n",
              "      <td>28.5</td>\n",
              "      <td>5</td>\n",
              "      <td>no</td>\n",
              "      <td>northeast</td>\n",
              "    </tr>\n",
              "    <tr>\n",
              "      <th>434</th>\n",
              "      <td>31</td>\n",
              "      <td>male</td>\n",
              "      <td>28.6</td>\n",
              "      <td>1</td>\n",
              "      <td>no</td>\n",
              "      <td>northwest</td>\n",
              "    </tr>\n",
              "    <tr>\n",
              "      <th>370</th>\n",
              "      <td>61</td>\n",
              "      <td>female</td>\n",
              "      <td>21.1</td>\n",
              "      <td>0</td>\n",
              "      <td>no</td>\n",
              "      <td>northwest</td>\n",
              "    </tr>\n",
              "    <tr>\n",
              "      <th>44</th>\n",
              "      <td>38</td>\n",
              "      <td>male</td>\n",
              "      <td>37.1</td>\n",
              "      <td>1</td>\n",
              "      <td>no</td>\n",
              "      <td>northeast</td>\n",
              "    </tr>\n",
              "    <tr>\n",
              "      <th>1039</th>\n",
              "      <td>19</td>\n",
              "      <td>male</td>\n",
              "      <td>27.3</td>\n",
              "      <td>2</td>\n",
              "      <td>no</td>\n",
              "      <td>northwest</td>\n",
              "    </tr>\n",
              "    <tr>\n",
              "      <th>...</th>\n",
              "      <td>...</td>\n",
              "      <td>...</td>\n",
              "      <td>...</td>\n",
              "      <td>...</td>\n",
              "      <td>...</td>\n",
              "      <td>...</td>\n",
              "    </tr>\n",
              "    <tr>\n",
              "      <th>39</th>\n",
              "      <td>60</td>\n",
              "      <td>male</td>\n",
              "      <td>39.9</td>\n",
              "      <td>0</td>\n",
              "      <td>yes</td>\n",
              "      <td>southwest</td>\n",
              "    </tr>\n",
              "    <tr>\n",
              "      <th>610</th>\n",
              "      <td>47</td>\n",
              "      <td>female</td>\n",
              "      <td>29.4</td>\n",
              "      <td>1</td>\n",
              "      <td>no</td>\n",
              "      <td>southeast</td>\n",
              "    </tr>\n",
              "    <tr>\n",
              "      <th>57</th>\n",
              "      <td>18</td>\n",
              "      <td>male</td>\n",
              "      <td>31.7</td>\n",
              "      <td>2</td>\n",
              "      <td>yes</td>\n",
              "      <td>southeast</td>\n",
              "    </tr>\n",
              "    <tr>\n",
              "      <th>851</th>\n",
              "      <td>61</td>\n",
              "      <td>male</td>\n",
              "      <td>32.3</td>\n",
              "      <td>2</td>\n",
              "      <td>no</td>\n",
              "      <td>northwest</td>\n",
              "    </tr>\n",
              "    <tr>\n",
              "      <th>1265</th>\n",
              "      <td>64</td>\n",
              "      <td>male</td>\n",
              "      <td>23.8</td>\n",
              "      <td>0</td>\n",
              "      <td>yes</td>\n",
              "      <td>southeast</td>\n",
              "    </tr>\n",
              "  </tbody>\n",
              "</table>\n",
              "<p>268 rows × 6 columns</p>\n",
              "</div>"
            ],
            "text/plain": [
              "      age     sex   bmi  children smoker     region\n",
              "71     31    male  28.5         5     no  northeast\n",
              "434    31    male  28.6         1     no  northwest\n",
              "370    61  female  21.1         0     no  northwest\n",
              "44     38    male  37.1         1     no  northeast\n",
              "1039   19    male  27.3         2     no  northwest\n",
              "...   ...     ...   ...       ...    ...        ...\n",
              "39     60    male  39.9         0    yes  southwest\n",
              "610    47  female  29.4         1     no  southeast\n",
              "57     18    male  31.7         2    yes  southeast\n",
              "851    61    male  32.3         2     no  northwest\n",
              "1265   64    male  23.8         0    yes  southeast\n",
              "\n",
              "[268 rows x 6 columns]"
            ]
          },
          "metadata": {
            "tags": []
          },
          "execution_count": 33
        }
      ]
    },
    {
      "cell_type": "code",
      "metadata": {
        "colab": {
          "base_uri": "https://localhost:8080/"
        },
        "id": "9qXGQLfHgvSC",
        "outputId": "6e5d11fd-b8e3-4097-c39d-65522a7cc9ea"
      },
      "source": [
        "test_labels"
      ],
      "execution_count": null,
      "outputs": [
        {
          "output_type": "execute_result",
          "data": {
            "text/plain": [
              "71       6799.46\n",
              "434      4243.59\n",
              "370     13415.04\n",
              "44       6079.67\n",
              "1039    22493.66\n",
              "          ...   \n",
              "39      48173.36\n",
              "610      8547.69\n",
              "57      34303.17\n",
              "851     14119.62\n",
              "1265    26926.51\n",
              "Name: expenses, Length: 268, dtype: float64"
            ]
          },
          "metadata": {
            "tags": []
          },
          "execution_count": 34
        }
      ]
    },
    {
      "cell_type": "code",
      "metadata": {
        "id": "_79h_iF6g28w"
      },
      "source": [
        "cat_cols = [cname for cname in strat_train_set.columns if strat_train_set[cname].nunique() < 10 and \n",
        "           strat_train_set[cname].dtype == \"object\"]\n",
        "num_cols = [cname for cname in strat_train_set.columns if strat_train_set[cname].dtype in ['int64', 'float64']]"
      ],
      "execution_count": null,
      "outputs": []
    },
    {
      "cell_type": "code",
      "metadata": {
        "colab": {
          "base_uri": "https://localhost:8080/"
        },
        "id": "xQWCT4J6g5de",
        "outputId": "5b975283-c995-4d0f-ba1d-422e58d05dcd"
      },
      "source": [
        "cat_cols"
      ],
      "execution_count": null,
      "outputs": [
        {
          "output_type": "execute_result",
          "data": {
            "text/plain": [
              "['sex', 'smoker', 'region']"
            ]
          },
          "metadata": {
            "tags": []
          },
          "execution_count": 36
        }
      ]
    },
    {
      "cell_type": "code",
      "metadata": {
        "colab": {
          "base_uri": "https://localhost:8080/"
        },
        "id": "oo9b46GLg8AE",
        "outputId": "24725018-b851-4e61-a8d9-81de30936292"
      },
      "source": [
        "num_cols"
      ],
      "execution_count": null,
      "outputs": [
        {
          "output_type": "execute_result",
          "data": {
            "text/plain": [
              "['age', 'bmi', 'children']"
            ]
          },
          "metadata": {
            "tags": []
          },
          "execution_count": 37
        }
      ]
    },
    {
      "cell_type": "code",
      "metadata": {
        "id": "yv5c6qn5g-Jf"
      },
      "source": [
        "#Let's handle the categorical columns and the numerical columns separately and apply the appropriate transformations to each column.\n",
        "from sklearn.compose import ColumnTransformer\n",
        "from sklearn.preprocessing import StandardScaler\n",
        "from sklearn.preprocessing import OneHotEncoder\n",
        "\n",
        "\n",
        "full_pipeline = ColumnTransformer([\n",
        "                                   (\"num\", StandardScaler(), num_cols), \n",
        "                                   (\"cat\", OneHotEncoder(), cat_cols),\n",
        "                                   ])\n",
        "\n",
        "train_prepared = full_pipeline.fit_transform(strat_train_set)"
      ],
      "execution_count": null,
      "outputs": []
    },
    {
      "cell_type": "code",
      "metadata": {
        "colab": {
          "base_uri": "https://localhost:8080/"
        },
        "id": "ZuQPZANyhIgs",
        "outputId": "897bc303-1b2b-4d54-80a8-a93381c3e378"
      },
      "source": [
        "train_prepared.shape"
      ],
      "execution_count": null,
      "outputs": [
        {
          "output_type": "execute_result",
          "data": {
            "text/plain": [
              "(1070, 11)"
            ]
          },
          "metadata": {
            "tags": []
          },
          "execution_count": 39
        }
      ]
    },
    {
      "cell_type": "code",
      "metadata": {
        "colab": {
          "base_uri": "https://localhost:8080/"
        },
        "id": "-v965e4DhIVL",
        "outputId": "e5b14968-2c91-4e01-9106-befc488c7c2a"
      },
      "source": [
        "train_labels.shape"
      ],
      "execution_count": null,
      "outputs": [
        {
          "output_type": "execute_result",
          "data": {
            "text/plain": [
              "(1070,)"
            ]
          },
          "metadata": {
            "tags": []
          },
          "execution_count": 40
        }
      ]
    },
    {
      "cell_type": "markdown",
      "metadata": {
        "id": "PnI9FRKAhOdB"
      },
      "source": [
        "## Train the model"
      ]
    },
    {
      "cell_type": "code",
      "metadata": {
        "id": "Uy-Ox6HThS_U"
      },
      "source": [
        "np.random.seed(42)\n",
        "tf.random.set_seed(42)"
      ],
      "execution_count": null,
      "outputs": []
    },
    {
      "cell_type": "code",
      "metadata": {
        "id": "z53zUkSHhSzw"
      },
      "source": [
        "from keras import optimizers\n",
        "\n",
        "model = keras.models.Sequential([\n",
        "                                 layers.Dense(1, activation = \"linear\", input_shape = train_prepared.shape[1:]),\n",
        "                                 layers.Dense(1)\n",
        "])\n",
        "model.compile(loss = 'mean_absolute_error', optimizer = optimizers.RMSprop(learning_rate = 0.1), metrics=['mae','mse'])"
      ],
      "execution_count": null,
      "outputs": []
    },
    {
      "cell_type": "code",
      "metadata": {
        "colab": {
          "base_uri": "https://localhost:8080/"
        },
        "id": "74VH282UhcTR",
        "outputId": "f9b5ae86-3fa1-4483-f85e-b747a9907848"
      },
      "source": [
        "model.summary()"
      ],
      "execution_count": null,
      "outputs": [
        {
          "output_type": "stream",
          "text": [
            "Model: \"sequential_1\"\n",
            "_________________________________________________________________\n",
            "Layer (type)                 Output Shape              Param #   \n",
            "=================================================================\n",
            "dense_2 (Dense)              (None, 1)                 12        \n",
            "_________________________________________________________________\n",
            "dense_3 (Dense)              (None, 1)                 2         \n",
            "=================================================================\n",
            "Total params: 14\n",
            "Trainable params: 14\n",
            "Non-trainable params: 0\n",
            "_________________________________________________________________\n"
          ],
          "name": "stdout"
        }
      ]
    },
    {
      "cell_type": "code",
      "metadata": {
        "colab": {
          "base_uri": "https://localhost:8080/",
          "height": 312
        },
        "id": "GdxYyZiThv42",
        "outputId": "76fce2ed-cc50-4859-ae0f-a36c7ea1904f"
      },
      "source": [
        "keras.utils.plot_model(model, show_shapes = True)"
      ],
      "execution_count": null,
      "outputs": [
        {
          "output_type": "execute_result",
          "data": {
            "image/png": "[encoded data removed]",
            "text/plain": [
              "<IPython.core.display.Image object>"
            ]
          },
          "metadata": {
            "tags": []
          },
          "execution_count": 45
        }
      ]
    },
    {
      "cell_type": "code",
      "metadata": {
        "colab": {
          "base_uri": "https://localhost:8080/"
        },
        "id": "oHeShjDWh21z",
        "outputId": "cf8786f1-dccb-4e08-8457-024d656631d6"
      },
      "source": [
        "model.layers"
      ],
      "execution_count": null,
      "outputs": [
        {
          "output_type": "execute_result",
          "data": {
            "text/plain": [
              "[<tensorflow.python.keras.layers.core.Dense at 0x7fa295b75a90>,\n",
              " <tensorflow.python.keras.layers.core.Dense at 0x7fa295b75210>]"
            ]
          },
          "metadata": {
            "tags": []
          },
          "execution_count": 46
        }
      ]
    },
    {
      "cell_type": "code",
      "metadata": {
        "colab": {
          "base_uri": "https://localhost:8080/"
        },
        "id": "2Mgc5JYYh4RW",
        "outputId": "abc37870-bfde-405c-bdbb-6b52f59e4cd6"
      },
      "source": [
        "history = model.fit(train_prepared, train_labels, epochs = 100)"
      ],
      "execution_count": null,
      "outputs": [
        {
          "output_type": "stream",
          "text": [
            "Epoch 1/100\n",
            "34/34 [==============================] - 1s 1ms/step - loss: 13237.2979 - mae: 13237.2979 - mse: 321547936.0000\n",
            "Epoch 2/100\n",
            "34/34 [==============================] - 0s 1ms/step - loss: 13056.0771 - mae: 13056.0771 - mse: 316821344.0000\n",
            "Epoch 3/100\n",
            "34/34 [==============================] - 0s 1ms/step - loss: 12773.7529 - mae: 12773.7529 - mse: 309541600.0000\n",
            "Epoch 4/100\n",
            "34/34 [==============================] - 0s 1ms/step - loss: 12394.3936 - mae: 12394.3936 - mse: 300168480.0000\n",
            "Epoch 5/100\n",
            "34/34 [==============================] - 0s 1ms/step - loss: 11928.5996 - mae: 11928.5996 - mse: 288772800.0000\n",
            "Epoch 6/100\n",
            "34/34 [==============================] - 0s 1ms/step - loss: 11404.5098 - mae: 11404.5098 - mse: 275284352.0000\n",
            "Epoch 7/100\n",
            "34/34 [==============================] - 0s 1ms/step - loss: 10838.3828 - mae: 10838.3828 - mse: 260776192.0000\n",
            "Epoch 8/100\n",
            "34/34 [==============================] - 0s 1ms/step - loss: 10240.2979 - mae: 10240.2979 - mse: 244957728.0000\n",
            "Epoch 9/100\n",
            "34/34 [==============================] - 0s 1ms/step - loss: 9627.9883 - mae: 9627.9883 - mse: 228546352.0000\n",
            "Epoch 10/100\n",
            "34/34 [==============================] - 0s 1ms/step - loss: 9054.1719 - mae: 9054.1719 - mse: 212582416.0000\n",
            "Epoch 11/100\n",
            "34/34 [==============================] - 0s 1ms/step - loss: 8556.0342 - mae: 8556.0342 - mse: 197869552.0000\n",
            "Epoch 12/100\n",
            "34/34 [==============================] - 0s 1ms/step - loss: 8142.1709 - mae: 8142.1709 - mse: 183956560.0000\n",
            "Epoch 13/100\n",
            "34/34 [==============================] - 0s 1ms/step - loss: 7843.8198 - mae: 7843.8198 - mse: 172731488.0000\n",
            "Epoch 14/100\n",
            "34/34 [==============================] - 0s 1ms/step - loss: 7615.1143 - mae: 7615.1143 - mse: 164209424.0000\n",
            "Epoch 15/100\n",
            "34/34 [==============================] - 0s 1ms/step - loss: 7415.7261 - mae: 7415.7261 - mse: 156786512.0000\n",
            "Epoch 16/100\n",
            "34/34 [==============================] - 0s 1ms/step - loss: 7228.5493 - mae: 7228.5493 - mse: 150635040.0000\n",
            "Epoch 17/100\n",
            "34/34 [==============================] - 0s 1ms/step - loss: 7046.5786 - mae: 7046.5786 - mse: 146363472.0000\n",
            "Epoch 18/100\n",
            "34/34 [==============================] - 0s 2ms/step - loss: 6862.3843 - mae: 6862.3843 - mse: 143706000.0000\n",
            "Epoch 19/100\n",
            "34/34 [==============================] - 0s 1ms/step - loss: 6666.0405 - mae: 6666.0405 - mse: 140491904.0000\n",
            "Epoch 20/100\n",
            "34/34 [==============================] - 0s 1ms/step - loss: 6453.0327 - mae: 6453.0327 - mse: 137476864.0000\n",
            "Epoch 21/100\n",
            "34/34 [==============================] - 0s 1ms/step - loss: 6232.7832 - mae: 6232.7832 - mse: 135079840.0000\n",
            "Epoch 22/100\n",
            "34/34 [==============================] - 0s 1ms/step - loss: 6010.3486 - mae: 6010.3486 - mse: 133235528.0000\n",
            "Epoch 23/100\n",
            "34/34 [==============================] - 0s 1ms/step - loss: 5816.7139 - mae: 5816.7139 - mse: 130570008.0000\n",
            "Epoch 24/100\n",
            "34/34 [==============================] - 0s 1ms/step - loss: 5685.3745 - mae: 5685.3745 - mse: 127394208.0000\n",
            "Epoch 25/100\n",
            "34/34 [==============================] - 0s 1ms/step - loss: 5585.5342 - mae: 5585.5342 - mse: 123433960.0000\n",
            "Epoch 26/100\n",
            "34/34 [==============================] - 0s 1ms/step - loss: 5477.7651 - mae: 5477.7651 - mse: 119370536.0000\n",
            "Epoch 27/100\n",
            "34/34 [==============================] - 0s 1ms/step - loss: 5375.1191 - mae: 5375.1191 - mse: 115956080.0000\n",
            "Epoch 28/100\n",
            "34/34 [==============================] - 0s 1ms/step - loss: 5259.8574 - mae: 5259.8574 - mse: 111267096.0000\n",
            "Epoch 29/100\n",
            "34/34 [==============================] - 0s 1ms/step - loss: 5139.9526 - mae: 5139.9526 - mse: 107365848.0000\n",
            "Epoch 30/100\n",
            "34/34 [==============================] - 0s 1ms/step - loss: 5011.7471 - mae: 5011.7471 - mse: 102478816.0000\n",
            "Epoch 31/100\n",
            "34/34 [==============================] - 0s 1ms/step - loss: 4869.3164 - mae: 4869.3164 - mse: 98025488.0000\n",
            "Epoch 32/100\n",
            "34/34 [==============================] - 0s 1ms/step - loss: 4726.4185 - mae: 4726.4185 - mse: 93021232.0000\n",
            "Epoch 33/100\n",
            "34/34 [==============================] - 0s 1ms/step - loss: 4572.8862 - mae: 4572.8862 - mse: 88640504.0000\n",
            "Epoch 34/100\n",
            "34/34 [==============================] - 0s 1ms/step - loss: 4415.1338 - mae: 4415.1338 - mse: 83865904.0000\n",
            "Epoch 35/100\n",
            "34/34 [==============================] - 0s 1ms/step - loss: 4259.6641 - mae: 4259.6641 - mse: 79419952.0000\n",
            "Epoch 36/100\n",
            "34/34 [==============================] - 0s 1ms/step - loss: 4115.9746 - mae: 4115.9746 - mse: 75062464.0000\n",
            "Epoch 37/100\n",
            "34/34 [==============================] - 0s 1ms/step - loss: 3993.4939 - mae: 3993.4939 - mse: 71514424.0000\n",
            "Epoch 38/100\n",
            "34/34 [==============================] - 0s 1ms/step - loss: 3900.1372 - mae: 3900.1372 - mse: 68012624.0000\n",
            "Epoch 39/100\n",
            "34/34 [==============================] - 0s 1ms/step - loss: 3831.3547 - mae: 3831.3547 - mse: 65571296.0000\n",
            "Epoch 40/100\n",
            "34/34 [==============================] - 0s 1ms/step - loss: 3783.2815 - mae: 3783.2815 - mse: 62966276.0000\n",
            "Epoch 41/100\n",
            "34/34 [==============================] - 0s 1ms/step - loss: 3749.0820 - mae: 3749.0820 - mse: 61001320.0000\n",
            "Epoch 42/100\n",
            "34/34 [==============================] - 0s 1ms/step - loss: 3728.4626 - mae: 3728.4626 - mse: 59404468.0000\n",
            "Epoch 43/100\n",
            "34/34 [==============================] - 0s 1ms/step - loss: 3720.7959 - mae: 3720.7959 - mse: 58510488.0000\n",
            "Epoch 44/100\n",
            "34/34 [==============================] - 0s 1ms/step - loss: 3718.9651 - mae: 3718.9651 - mse: 58027520.0000\n",
            "Epoch 45/100\n",
            "34/34 [==============================] - 0s 1ms/step - loss: 3711.2478 - mae: 3711.2478 - mse: 57438900.0000\n",
            "Epoch 46/100\n",
            "34/34 [==============================] - 0s 1ms/step - loss: 3706.0344 - mae: 3706.0344 - mse: 56777688.0000\n",
            "Epoch 47/100\n",
            "34/34 [==============================] - 0s 1ms/step - loss: 3702.5427 - mae: 3702.5427 - mse: 55581112.0000\n",
            "Epoch 48/100\n",
            "34/34 [==============================] - 0s 1ms/step - loss: 3695.9900 - mae: 3695.9900 - mse: 55564656.0000\n",
            "Epoch 49/100\n",
            "34/34 [==============================] - 0s 1ms/step - loss: 3695.2197 - mae: 3695.2197 - mse: 54506072.0000\n",
            "Epoch 50/100\n",
            "34/34 [==============================] - 0s 1ms/step - loss: 3687.6741 - mae: 3687.6741 - mse: 53808668.0000\n",
            "Epoch 51/100\n",
            "34/34 [==============================] - 0s 1ms/step - loss: 3684.1475 - mae: 3684.1475 - mse: 53105412.0000\n",
            "Epoch 52/100\n",
            "34/34 [==============================] - 0s 1ms/step - loss: 3681.7793 - mae: 3681.7793 - mse: 52904972.0000\n",
            "Epoch 53/100\n",
            "34/34 [==============================] - 0s 1ms/step - loss: 3677.3438 - mae: 3677.3438 - mse: 51953240.0000\n",
            "Epoch 54/100\n",
            "34/34 [==============================] - 0s 1ms/step - loss: 3673.5063 - mae: 3673.5063 - mse: 51606080.0000\n",
            "Epoch 55/100\n",
            "34/34 [==============================] - 0s 3ms/step - loss: 3671.4509 - mae: 3671.4509 - mse: 51138428.0000\n",
            "Epoch 56/100\n",
            "34/34 [==============================] - 0s 1ms/step - loss: 3666.0525 - mae: 3666.0525 - mse: 50871040.0000\n",
            "Epoch 57/100\n",
            "34/34 [==============================] - 0s 1ms/step - loss: 3665.0054 - mae: 3665.0054 - mse: 50258344.0000\n",
            "Epoch 58/100\n",
            "34/34 [==============================] - 0s 1ms/step - loss: 3659.8423 - mae: 3659.8423 - mse: 49660236.0000\n",
            "Epoch 59/100\n",
            "34/34 [==============================] - 0s 1ms/step - loss: 3657.0398 - mae: 3657.0398 - mse: 49550360.0000\n",
            "Epoch 60/100\n",
            "34/34 [==============================] - 0s 1ms/step - loss: 3655.9648 - mae: 3655.9648 - mse: 49206940.0000\n",
            "Epoch 61/100\n",
            "34/34 [==============================] - 0s 1ms/step - loss: 3650.9890 - mae: 3650.9890 - mse: 48649548.0000\n",
            "Epoch 62/100\n",
            "34/34 [==============================] - 0s 1ms/step - loss: 3651.7300 - mae: 3651.7300 - mse: 48526132.0000\n",
            "Epoch 63/100\n",
            "34/34 [==============================] - 0s 1ms/step - loss: 3645.7593 - mae: 3645.7593 - mse: 47753224.0000\n",
            "Epoch 64/100\n",
            "34/34 [==============================] - 0s 1ms/step - loss: 3641.6382 - mae: 3641.6382 - mse: 47653072.0000\n",
            "Epoch 65/100\n",
            "34/34 [==============================] - 0s 1ms/step - loss: 3639.8171 - mae: 3639.8171 - mse: 47158096.0000\n",
            "Epoch 66/100\n",
            "34/34 [==============================] - 0s 1ms/step - loss: 3636.4360 - mae: 3636.4360 - mse: 46671184.0000\n",
            "Epoch 67/100\n",
            "34/34 [==============================] - 0s 1ms/step - loss: 3633.4353 - mae: 3633.4353 - mse: 46675100.0000\n",
            "Epoch 68/100\n",
            "34/34 [==============================] - 0s 1ms/step - loss: 3629.3220 - mae: 3629.3220 - mse: 45979852.0000\n",
            "Epoch 69/100\n",
            "34/34 [==============================] - 0s 1ms/step - loss: 3626.4573 - mae: 3626.4573 - mse: 46052400.0000\n",
            "Epoch 70/100\n",
            "34/34 [==============================] - 0s 1ms/step - loss: 3624.9990 - mae: 3624.9990 - mse: 45480556.0000\n",
            "Epoch 71/100\n",
            "34/34 [==============================] - 0s 1ms/step - loss: 3621.3918 - mae: 3621.3918 - mse: 44995772.0000\n",
            "Epoch 72/100\n",
            "34/34 [==============================] - 0s 1ms/step - loss: 3615.6040 - mae: 3615.6040 - mse: 44843216.0000\n",
            "Epoch 73/100\n",
            "34/34 [==============================] - 0s 1ms/step - loss: 3615.1995 - mae: 3615.1995 - mse: 44769596.0000\n",
            "Epoch 74/100\n",
            "34/34 [==============================] - 0s 1ms/step - loss: 3608.2295 - mae: 3608.2295 - mse: 44243596.0000\n",
            "Epoch 75/100\n",
            "34/34 [==============================] - 0s 1ms/step - loss: 3606.5852 - mae: 3606.5852 - mse: 44294088.0000\n",
            "Epoch 76/100\n",
            "34/34 [==============================] - 0s 1ms/step - loss: 3602.2395 - mae: 3602.2395 - mse: 43835124.0000\n",
            "Epoch 77/100\n",
            "34/34 [==============================] - 0s 1ms/step - loss: 3600.7627 - mae: 3600.7627 - mse: 43691892.0000\n",
            "Epoch 78/100\n",
            "34/34 [==============================] - 0s 1ms/step - loss: 3595.0708 - mae: 3595.0708 - mse: 43338208.0000\n",
            "Epoch 79/100\n",
            "34/34 [==============================] - 0s 1ms/step - loss: 3591.9121 - mae: 3591.9121 - mse: 43474720.0000\n",
            "Epoch 80/100\n",
            "34/34 [==============================] - 0s 1ms/step - loss: 3590.0779 - mae: 3590.0779 - mse: 42956084.0000\n",
            "Epoch 81/100\n",
            "34/34 [==============================] - 0s 1ms/step - loss: 3587.1985 - mae: 3587.1985 - mse: 42982328.0000\n",
            "Epoch 82/100\n",
            "34/34 [==============================] - 0s 1ms/step - loss: 3579.4993 - mae: 3579.4993 - mse: 42846744.0000\n",
            "Epoch 83/100\n",
            "34/34 [==============================] - 0s 1ms/step - loss: 3576.2715 - mae: 3576.2715 - mse: 42546936.0000\n",
            "Epoch 84/100\n",
            "34/34 [==============================] - 0s 1ms/step - loss: 3574.5054 - mae: 3574.5054 - mse: 42635176.0000\n",
            "Epoch 85/100\n",
            "34/34 [==============================] - 0s 1ms/step - loss: 3570.5286 - mae: 3570.5286 - mse: 42372204.0000\n",
            "Epoch 86/100\n",
            "34/34 [==============================] - 0s 1ms/step - loss: 3567.1199 - mae: 3567.1199 - mse: 42428656.0000\n",
            "Epoch 87/100\n",
            "34/34 [==============================] - 0s 1ms/step - loss: 3565.6467 - mae: 3565.6467 - mse: 42280348.0000\n",
            "Epoch 88/100\n",
            "34/34 [==============================] - 0s 1ms/step - loss: 3560.6316 - mae: 3560.6316 - mse: 42378036.0000\n",
            "Epoch 89/100\n",
            "34/34 [==============================] - 0s 1ms/step - loss: 3559.7473 - mae: 3559.7473 - mse: 42396376.0000\n",
            "Epoch 90/100\n",
            "34/34 [==============================] - 0s 1ms/step - loss: 3555.4602 - mae: 3555.4602 - mse: 42325864.0000\n",
            "Epoch 91/100\n",
            "34/34 [==============================] - 0s 1ms/step - loss: 3552.0679 - mae: 3552.0679 - mse: 42377220.0000\n",
            "Epoch 92/100\n",
            "34/34 [==============================] - 0s 1ms/step - loss: 3552.7683 - mae: 3552.7683 - mse: 42184268.0000\n",
            "Epoch 93/100\n",
            "34/34 [==============================] - 0s 1ms/step - loss: 3547.8396 - mae: 3547.8396 - mse: 42430688.0000\n",
            "Epoch 94/100\n",
            "34/34 [==============================] - 0s 1ms/step - loss: 3545.8228 - mae: 3545.8228 - mse: 42348812.0000\n",
            "Epoch 95/100\n",
            "34/34 [==============================] - 0s 1ms/step - loss: 3544.9495 - mae: 3544.9495 - mse: 42399008.0000\n",
            "Epoch 96/100\n",
            "34/34 [==============================] - 0s 1ms/step - loss: 3542.0278 - mae: 3542.0278 - mse: 42484916.0000\n",
            "Epoch 97/100\n",
            "34/34 [==============================] - 0s 1ms/step - loss: 3542.4985 - mae: 3542.4985 - mse: 42614136.0000\n",
            "Epoch 98/100\n",
            "34/34 [==============================] - 0s 1ms/step - loss: 3538.7473 - mae: 3538.7473 - mse: 42664032.0000\n",
            "Epoch 99/100\n",
            "34/34 [==============================] - 0s 1ms/step - loss: 3536.4568 - mae: 3536.4568 - mse: 42751140.0000\n",
            "Epoch 100/100\n",
            "34/34 [==============================] - 0s 1ms/step - loss: 3531.1890 - mae: 3531.1890 - mse: 42785112.0000\n"
          ],
          "name": "stdout"
        }
      ]
    },
    {
      "cell_type": "code",
      "metadata": {
        "colab": {
          "base_uri": "https://localhost:8080/",
          "height": 331
        },
        "id": "wgwInMwfiA21",
        "outputId": "035ceae7-257c-46c0-9c33-dc0b1b44868d"
      },
      "source": [
        "#visualize the learning curves plot.\n",
        "\n",
        "pd.DataFrame(history.history).plot(figsize=(8, 5))\n",
        "plt.grid(True)\n",
        "plt.show()\n"
      ],
      "execution_count": null,
      "outputs": [
        {
          "output_type": "display_data",
          "data": {
            "image/png": "[encoded data removed]",
            "text/plain": [
              "<Figure size 576x360 with 1 Axes>"
            ]
          },
          "metadata": {
            "tags": [],
            "needs_background": "light"
          }
        }
      ]
    },
    {
      "cell_type": "code",
      "metadata": {
        "colab": {
          "base_uri": "https://localhost:8080/",
          "height": 320
        },
        "id": "_C-OegnFiIIu",
        "outputId": "d891b529-becf-4667-bfe2-2aa9b6eef002"
      },
      "source": [
        "pd.DataFrame(history.history).plot(figsize=(8, 5))\n",
        "plt.grid(True)\n",
        "plt.gca().set_ylim(0, 15000) # set the vertical range to [0-15000]\n",
        "plt.show()"
      ],
      "execution_count": null,
      "outputs": [
        {
          "output_type": "display_data",
          "data": {
            "image/png": "[encoded data removed]",
            "text/plain": [
              "<Figure size 576x360 with 1 Axes>"
            ]
          },
          "metadata": {
            "tags": [],
            "needs_background": "light"
          }
        }
      ]
    },
    {
      "cell_type": "markdown",
      "metadata": {
        "id": "yF8Cfrl8iNed"
      },
      "source": [
        "## Test"
      ]
    },
    {
      "cell_type": "code",
      "metadata": {
        "id": "2GESV55iiQp4"
      },
      "source": [
        "test_prepared = full_pipeline.transform(strat_test_set)\n",
        "test_dataset = test_prepared"
      ],
      "execution_count": null,
      "outputs": []
    },
    {
      "cell_type": "code",
      "metadata": {
        "colab": {
          "base_uri": "https://localhost:8080/"
        },
        "id": "aMSqdvPriUB6",
        "outputId": "27348ba7-4397-4f3c-afc5-bf8ebdaf36e3"
      },
      "source": [
        "test_dataset.shape"
      ],
      "execution_count": null,
      "outputs": [
        {
          "output_type": "execute_result",
          "data": {
            "text/plain": [
              "(268, 11)"
            ]
          },
          "metadata": {
            "tags": []
          },
          "execution_count": 51
        }
      ]
    },
    {
      "cell_type": "code",
      "metadata": {
        "colab": {
          "base_uri": "https://localhost:8080/"
        },
        "id": "l_lrM7WfiXDl",
        "outputId": "d3a603b3-879a-46dc-91c2-fc8d5d71fd22"
      },
      "source": [
        "test_labels.shape"
      ],
      "execution_count": null,
      "outputs": [
        {
          "output_type": "execute_result",
          "data": {
            "text/plain": [
              "(268,)"
            ]
          },
          "metadata": {
            "tags": []
          },
          "execution_count": 52
        }
      ]
    },
    {
      "cell_type": "code",
      "metadata": {
        "id": "Xe7RXH3N3CWU",
        "colab": {
          "base_uri": "https://localhost:8080/",
          "height": 334
        },
        "outputId": "4d542c1b-4ef6-47f3-e7d2-13db3d184063"
      },
      "source": [
        "# RUN THIS CELL TO TEST YOUR MODEL. DO NOT MODIFY CONTENTS.\n",
        "# Test model by checking how well the model generalizes using the test set.\n",
        "loss, mae, mse = model.evaluate(test_dataset, test_labels, verbose=2)\n",
        "\n",
        "print(\"Testing set Mean Abs Error: {:5.2f} expenses\".format(mae))\n",
        "\n",
        "if mae < 3500:\n",
        "  print(\"You passed the challenge. Great job!\")\n",
        "else:\n",
        "  print(\"The Mean Abs Error must be less than 3500. Keep trying.\")\n",
        "\n",
        "# Plot predictions.\n",
        "test_predictions = model.predict(test_dataset).flatten()\n",
        "\n",
        "a = plt.axes(aspect='equal')\n",
        "plt.scatter(test_labels, test_predictions)\n",
        "plt.xlabel('True values (expenses)')\n",
        "plt.ylabel('Predictions (expenses)')\n",
        "lims = [0, 50000]\n",
        "plt.xlim(lims)\n",
        "plt.ylim(lims)\n",
        "_ = plt.plot(lims,lims)\n"
      ],
      "execution_count": null,
      "outputs": [
        {
          "output_type": "stream",
          "text": [
            "9/9 - 0s - loss: 3251.9575 - mae: 3251.9575 - mse: 37659888.0000\n",
            "Testing set Mean Abs Error: 3251.96 expenses\n",
            "You passed the challenge. Great job!\n"
          ],
          "name": "stdout"
        },
        {
          "output_type": "display_data",
          "data": {
            "image/png": "[encoded data removed]",
            "text/plain": [
              "<Figure size 432x288 with 1 Axes>"
            ]
          },
          "metadata": {
            "tags": [],
            "needs_background": "light"
          }
        }
      ]
    }
  ]
}